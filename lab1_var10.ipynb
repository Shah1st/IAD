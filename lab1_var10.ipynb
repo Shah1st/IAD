{
 "cells": [
  {
   "cell_type": "markdown",
   "id": "b38a3fc1-c9a3-4150-af44-f6341ca946cf",
   "metadata": {},
   "source": [
    "# Харитонов Олександр КА-12\n",
    "## Лабораторна робота №1\n",
    "### Варіант 10"
   ]
  },
  {
   "cell_type": "markdown",
   "id": "3d33641d-843c-441c-aa58-ef00dfd2b05b",
   "metadata": {},
   "source": [
    "Задано неорiєнтовний граф G з V вершинами, де ваги дуг dij вiдомi\n",
    "для ∀i, j = 1, ..., V , i ̸= j. Побудувати мiнiмальне покриваюче дерево -\n",
    "пiдграф J графу G, використовуючи алгоритм Крускала:\n",
    "1) Вiдсортувати ребра в порядку зростання їх ваг. J := ∅.\n",
    "2) Додавати по одному ребру до J, якщо це ребро не утворює цикл з\n",
    "наявними ребрами.\n",
    "Пояснення: першим додається ребро мiнiмальної ваги, далi наступне iз списку вiдсортованих ребер i т.д. \n",
    "Якщо деяке ребро утворює цикл з наявними ребрами, то воно пропускається (не додається до J)\n",
    "i здiйснюється перехiд до наступного ребра в списку вiдсортованих ребер.\n",
    "3) Виконувати крок 2 до тих пiр поки до J не буде додано V − 1 ребро."
   ]
  },
  {
   "cell_type": "code",
   "execution_count": 28,
   "id": "a8690a09-2b51-441f-b7c4-b6bea7928362",
   "metadata": {},
   "outputs": [],
   "source": [
    "class Graph:\n",
    "    def __init__(self, vertices):\n",
    "        self.V = vertices  # Кількість вершин в графі\n",
    "        self.graph = []    # Пустий список для збереження ребер графу\n",
    "\n",
    "    def add_edge(self, u, v, w):\n",
    "        self.graph.append((u, v, w))\n",
    "\n",
    "    def kruskal(self):\n",
    "        result = []  # Список для збереження ребер мінімального покриваючого дерева\n",
    "        self.graph = sorted(self.graph, key=lambda item: item[2])  # Сортуємо ребра за зростанням ваги\n",
    "        parent = [i for i in range(self.V)]\n",
    "        rank = [0] * self.V\n",
    "\n",
    "        def find(i):\n",
    "            if parent[i] == i:\n",
    "                return i\n",
    "            return find(parent[i])\n",
    "\n",
    "        def union(x, y):\n",
    "            xroot = find(x)\n",
    "            yroot = find(y)\n",
    "            if rank[xroot] < rank[yroot]:\n",
    "                parent[xroot] = yroot\n",
    "            elif rank[xroot] > rank[yroot]:\n",
    "                parent[yroot] = xroot\n",
    "            else:\n",
    "                parent[yroot] = xroot\n",
    "                rank[xroot] += 1\n",
    "\n",
    "        i = 0\n",
    "        \n",
    "        while len(result) < self.V - 1:\n",
    "            u, v, w = self.graph[i]\n",
    "            i += 1\n",
    "            x = find(u)\n",
    "            y = find(v)\n",
    "            if x != y:\n",
    "                result.append((u, v, w))\n",
    "                union(x, y)\n",
    "\n",
    "        return result\n"
   ]
  },
  {
   "cell_type": "markdown",
   "id": "c0bd907e-a487-4775-8ebd-00c3a9dd3b0c",
   "metadata": {},
   "source": [
    "Створено клас Graph. У конструкторі init передаємо кількість вершин графа і ініціалізуємо порожній список graph, в якому будемо зберігати ребра графа. Також маємо метод add_edge додає ребро до графа.\n",
    "\n",
    "Використано алгоритм Union-Find та списки parent(містить представників (батьків) кожної вершини графу) і rank(для кожної вершини зберігається інформація про її ранг (глибину) у дереві множин)\n",
    "Функція find рекурсивно шукає батька кожної вершини графу, в подальшому використовується для знаходження циклу(якщо в них різні батьки, то цикл не утворюється і ребро додається до result)\n",
    "Функція union об'єднує вершини і одна з них стає дитиною іншої вершини. для оптимізації як раз і використано rank(допомагає уникнути зростання висоти дерева при об'єднанні множин)\n",
    "\n",
    "Далі циклом, доки к-сть елементів у result не буде V-1 ми шукаємо чи є цикл у 2 вершин з відсортованого списку graph, і якщо ні, то додаємо до списку result та об'єднуємо їх."
   ]
  },
  {
   "cell_type": "code",
   "execution_count": 29,
   "id": "4ced92c5-951c-464f-9f38-5b18ad760d40",
   "metadata": {},
   "outputs": [
    {
     "name": "stdout",
     "output_type": "stream",
     "text": [
      "Мінімальне покриваюче дерево:\n",
      "Ребро (2 - 3), Вага: 4\n",
      "Ребро (0 - 3), Вага: 5\n",
      "Ребро (0 - 1), Вага: 10\n"
     ]
    }
   ],
   "source": [
    "graph = Graph(4)\n",
    "graph.add_edge(0, 1, 10)\n",
    "graph.add_edge(0, 2, 6)\n",
    "graph.add_edge(0, 3, 5)\n",
    "graph.add_edge(1, 3, 15)\n",
    "graph.add_edge(2, 3, 4)\n",
    "\n",
    "minimum_spanning_tree = graph.kruskal()\n",
    "print(\"Мінімальне покриваюче дерево:\")\n",
    "for u, v, w in minimum_spanning_tree:\n",
    "    print(f\"Ребро ({u} - {v}), Вага: {w}\")"
   ]
  },
  {
   "cell_type": "code",
   "execution_count": null,
   "id": "b7c944fb-8aee-48c9-85fa-135180bd2542",
   "metadata": {},
   "outputs": [],
   "source": []
  }
 ],
 "metadata": {
  "kernelspec": {
   "display_name": "Python 3 (ipykernel)",
   "language": "python",
   "name": "python3"
  },
  "language_info": {
   "codemirror_mode": {
    "name": "ipython",
    "version": 3
   },
   "file_extension": ".py",
   "mimetype": "text/x-python",
   "name": "python",
   "nbconvert_exporter": "python",
   "pygments_lexer": "ipython3",
   "version": "3.9.13"
  }
 },
 "nbformat": 4,
 "nbformat_minor": 5
}
